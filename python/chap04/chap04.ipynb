{
 "cells": [
  {
   "cell_type": "markdown",
   "metadata": {},
   "source": [
    "# 第4章: 形態素解析\n",
    "\n",
    "夏目漱石の小説『吾輩は猫である』の文章（neko.txt）をMeCabを使って形態素解析し，その結果をneko.txt.mecabというファイルに保存せよ．このファイルを用いて，以下の問に対応するプログラムを実装せよ．\n",
    "\n",
    "なお，問題37, 38, 39はmatplotlibもしくはGnuplotを用いるとよい．"
   ]
  },
  {
   "cell_type": "code",
   "execution_count": 137,
   "metadata": {
    "collapsed": false
   },
   "outputs": [],
   "source": [
    "# $ mecab neko.txt > neko.txt.mecab\n",
    "import MeCab\n",
    "import numpy as np\n",
    "import matplotlib.pyplot as plt"
   ]
  },
  {
   "cell_type": "markdown",
   "metadata": {},
   "source": [
    "## 30. 形態素解析結果の読み込み\n",
    "形態素解析結果（neko.txt.mecab）を読み込むプログラムを実装せよ．ただし，各形態素は表層形（surface），基本形（base），品詞（pos），品詞細分類1（pos1）をキーとするマッピング型に格納し，1文を形態素（マッピング型）のリストとして表現せよ．第4章の残りの問題では，ここで作ったプログラムを活用せよ．"
   ]
  },
  {
   "cell_type": "code",
   "execution_count": 37,
   "metadata": {
    "collapsed": false
   },
   "outputs": [],
   "source": [
    "with open('neko.txt.mecab', 'r', encoding='utf-8') as f:\n",
    "    neko_mecab = f.readlines()\n",
    "\n",
    "xstrip = lambda x: x.strip(\"\\n\")\n",
    "is_not_eos = lambda x: x != \"EOS\"\n",
    "\n",
    "neko_lines = list(filter(is_not_eos, map(xstrip, neko_mecab)))\n",
    "\n",
    "def convert_nlpobj(line):\n",
    "    surface, props = line.split(\"\\t\")\n",
    "    pos, pos1, _, _, _, _, base, _, _ = (props.split(\",\") + [None, None])[:9]\n",
    "    return {\n",
    "        'surface': surface,\n",
    "        'base': base,\n",
    "        'pos': pos,\n",
    "        'pos1': pos1 }\n",
    "map_surface = lambda x: x['surface']\n",
    "map_base = lambda x: x['base']\n",
    "map_pos = lambda x: x['pos']\n",
    "map_pos1 = lambda x: x['pos1']\n",
    "neko_lib = list(map(convert_nlpobj, neko_lines))"
   ]
  },
  {
   "cell_type": "markdown",
   "metadata": {},
   "source": [
    "## 31. 動詞\n",
    "動詞の表層形をすべて抽出せよ．"
   ]
  },
  {
   "cell_type": "code",
   "execution_count": 38,
   "metadata": {
    "collapsed": false
   },
   "outputs": [
    {
     "name": "stdout",
     "output_type": "stream",
     "text": [
      "生れ,つか,し,泣い,し,いる,始め,見,聞く,捕え,煮,食う,思わ,載せ,られ,持ち上げ,られ,し,あっ,落ちつい...\n"
     ]
    }
   ],
   "source": [
    "verb_filter = lambda x: x['pos'] == '動詞'\n",
    "verbs_surfaces = list(map(map_surface, filter(verb_filter, neko_lib)))\n",
    "print(\",\".join(verbs_surfaces[:20]) + \"...\")"
   ]
  },
  {
   "cell_type": "markdown",
   "metadata": {},
   "source": [
    "## 32. 動詞の原形\n",
    "動詞の原形をすべて抽出せよ．"
   ]
  },
  {
   "cell_type": "code",
   "execution_count": 39,
   "metadata": {
    "collapsed": false
   },
   "outputs": [
    {
     "name": "stdout",
     "output_type": "stream",
     "text": [
      "生れる,つく,する,泣く,する,いる,始める,見る,聞く,捕える,煮る,食う,思う,載せる,られる,持ち上げる,られる,する,ある,落ちつく...\n"
     ]
    }
   ],
   "source": [
    "verbs_bases = list(map(map_base, filter(verb_filter, neko_lib)))\n",
    "print(\",\".join(verbs_bases[:20]) + \"...\")"
   ]
  },
  {
   "cell_type": "markdown",
   "metadata": {},
   "source": [
    "## 33. サ変名詞\n",
    "サ変接続の名詞をすべて抽出せよ．"
   ]
  },
  {
   "cell_type": "code",
   "execution_count": 62,
   "metadata": {
    "collapsed": false
   },
   "outputs": [
    {
     "name": "stdout",
     "output_type": "stream",
     "text": [
      "記憶,装飾,突起,咽,運転,記憶,我慢,餓死,訪問,遭遇,記憶,珍重,同居,観察,断言,同衾,尊敬,剿滅,憤慨,失敗...\n"
     ]
    }
   ],
   "source": [
    "noun_filter = lambda x: x['pos'] == '名詞'\n",
    "is_suru = lambda x:  x['base'] == 'する'\n",
    "sahen_noun_filter = lambda x, nex: noun_filter(x) and is_suru(nex)\n",
    "\n",
    "sahen_nouns = []\n",
    "for i, x in enumerate(neko_lib):\n",
    "    if i == 0:\n",
    "        continue\n",
    "    if sahen_noun_filter(neko_lib[i - 1], x):\n",
    "        sahen_nouns.append(neko_lib[i - 1])\n",
    "        \n",
    "print(\",\".join(list(map(map_base, sahen_nouns[:20]))) + \"...\")"
   ]
  },
  {
   "cell_type": "markdown",
   "metadata": {},
   "source": [
    "## 34. 「AのB」\n",
    "2つの名詞が「の」で連結されている名詞句を抽出せよ．"
   ]
  },
  {
   "cell_type": "code",
   "execution_count": 67,
   "metadata": {
    "collapsed": false
   },
   "outputs": [
    {
     "name": "stdout",
     "output_type": "stream",
     "text": [
      "['ものの見', '人間の飲む', '食物のある', '竹垣の崩れ', '下の黒い', '弾力のない', '天気のよい', '心持の好い', 'うちの小', '供のご', '吾輩の住み込ん', '後のある', '人のを', '詐りのない', '幅の大', '例のごとく', '猫のごとく', '漆のごとき', '方のない', '存分のし']\n"
     ]
    }
   ],
   "source": [
    "nonoun_phrases = []\n",
    "for i, x in enumerate(neko_lib):\n",
    "    if x['base'] != 'の':\n",
    "        continue\n",
    "    pre, cur, nex = neko_lib[i - 1: i + 2]\n",
    "    if not noun_filter(pre) or noun_filter(nex):\n",
    "        continue\n",
    "    nonoun_phrases.append(pre['surface'] + cur['surface'] + nex['surface'])\n",
    "print(nonoun_phrases[:20])"
   ]
  },
  {
   "cell_type": "markdown",
   "metadata": {},
   "source": [
    "## 35. 名詞の連接\n",
    "名詞の連接（連続して出現する名詞）を最長一致で抽出せよ．"
   ]
  },
  {
   "cell_type": "code",
   "execution_count": 95,
   "metadata": {
    "collapsed": false
   },
   "outputs": [
    {
     "name": "stdout",
     "output_type": "stream",
     "text": [
      "[\"manyaslip'twixtthecupandthelip\", '明治三十八年何月何日戸締り']\n"
     ]
    }
   ],
   "source": [
    "long_noun = {}\n",
    "chain = 0\n",
    "term = ''\n",
    "for i, x in enumerate(neko_lib):\n",
    "    if noun_filter(x):\n",
    "        chain += 1\n",
    "        term += x['surface']\n",
    "    else:\n",
    "        if chain > 1:\n",
    "            if chain not in long_noun:\n",
    "                long_noun[chain] = []\n",
    "            long_noun[chain].append(term)\n",
    "            pass\n",
    "        chain = 0\n",
    "        term = ''\n",
    "longest_nouns = long_noun[list(long_noun.keys())[-1]]\n",
    "print(longest_nouns)"
   ]
  },
  {
   "cell_type": "markdown",
   "metadata": {},
   "source": [
    "## 36. 単語の出現頻度\n",
    "文章中に出現する単語とその出現頻度を求め，出現頻度の高い順に並べよ．"
   ]
  },
  {
   "cell_type": "code",
   "execution_count": 104,
   "metadata": {
    "collapsed": false
   },
   "outputs": [
    {
     "name": "stdout",
     "output_type": "stream",
     "text": [
      "の 9194\n",
      "。 7486\n",
      "て 6868\n",
      "、 6772\n",
      "は 6420\n",
      "に 6243\n",
      "を 6071\n",
      "と 5508\n",
      "が 5337\n",
      "た 3988\n"
     ]
    }
   ],
   "source": [
    "def ngram_map(words):\n",
    "    gram = {}\n",
    "    for word in words:\n",
    "        if word not in gram:\n",
    "            gram[word] = 0\n",
    "        gram[word] += 1\n",
    "    return gram\n",
    "\n",
    "words = list(map(map_surface, neko_lib))\n",
    "gram = ngram_map(words)\n",
    "gram_ranks = list(sorted(gram.items(), key=lambda x: -x[1]))\n",
    "for k, v in gram_ranks[:10]:\n",
    "    print(k, v)"
   ]
  },
  {
   "cell_type": "markdown",
   "metadata": {},
   "source": [
    "## 37. 頻度上位10語\n",
    "出現頻度が高い10語とその出現頻度をグラフ（例えば棒グラフなど）で表示せよ．"
   ]
  },
  {
   "cell_type": "code",
   "execution_count": 243,
   "metadata": {
    "collapsed": false
   },
   "outputs": [
    {
     "data": {
      "image/png": "[encoded data removed]",
      "text/plain": [
       "<matplotlib.figure.Figure at 0x11feea4a8>"
      ]
     },
     "metadata": {},
     "output_type": "display_data"
    }
   ],
   "source": [
    "xy = np.array(list(reversed(gram_ranks[:10])))\n",
    "X, Y = xy.T\n",
    "fp = FontProperties(fname='/usr/local/Cellar/ricty/3.2.4/share/fonts/Ricty-Regular.ttf')\n",
    "plt.bar(range(10), list(map(int, Y)), align='center')\n",
    "plt.xticks(range(10), X, fontproperties=fp)\n",
    "plt.show()"
   ]
  },
  {
   "cell_type": "markdown",
   "metadata": {},
   "source": [
    "## 38. ヒストグラム\n",
    "単語の出現頻度のヒストグラム（横軸に出現頻度，縦軸に出現頻度をとる単語の種類数を棒グラフで表したもの）を描け．"
   ]
  },
  {
   "cell_type": "code",
   "execution_count": 220,
   "metadata": {
    "collapsed": false
   },
   "outputs": [
    {
     "data": {
      "image/png": "[encoded data removed]",
      "text/plain": [
       "<matplotlib.figure.Figure at 0x120300ef0>"
      ]
     },
     "metadata": {},
     "output_type": "display_data"
    }
   ],
   "source": [
    "kind_counts = {}\n",
    "for word, count in gram_ranks:\n",
    "    if count not in kind_counts:\n",
    "        kind_counts[count] = 0\n",
    "    kind_counts[count] += 1\n",
    "\n",
    "xy = np.array(list(sorted(kind_counts.items())))\n",
    "X, Y = xy.T\n",
    "\n",
    "plt.hist(list(map(int, Y)), bins=100)\n",
    "plt.title(\"Zipf\")\n",
    "plt.xlabel(\"frequency\")\n",
    "plt.ylabel(\"count of kind\")\n",
    "plt.yscale('log')\n",
    "plt.show()"
   ]
  },
  {
   "cell_type": "markdown",
   "metadata": {},
   "source": [
    "## 39. Zipfの法則\n",
    "単語の出現頻度順位を横軸，その出現頻度を縦軸として，両対数グラフをプロットせよ．"
   ]
  },
  {
   "cell_type": "code",
   "execution_count": 239,
   "metadata": {
    "collapsed": false
   },
   "outputs": [
    {
     "data": {
      "image/png": "[encoded data removed]",
      "text/plain": [
       "<matplotlib.figure.Figure at 0x1131e4d68>"
      ]
     },
     "metadata": {},
     "output_type": "display_data"
    }
   ],
   "source": [
    "xy = np.array(gram_ranks)\n",
    "_, Y = xy.T\n",
    "plt.plot(range(len(Y)), list(reversed(sorted(Y))), 'ro')\n",
    "plt.title(\"Zipf\")\n",
    "plt.xlabel(\"count\")\n",
    "plt.ylabel(\"frequency\")\n",
    "plt.xscale('log')\n",
    "plt.yscale('log')\n",
    "plt.show()"
   ]
  }
 ],
 "metadata": {
  "kernelspec": {
   "display_name": "Python 3",
   "language": "python",
   "name": "python3"
  },
  "language_info": {
   "codemirror_mode": {
    "name": "ipython",
    "version": 3
   },
   "file_extension": ".py",
   "mimetype": "text/x-python",
   "name": "python",
   "nbconvert_exporter": "python",
   "pygments_lexer": "ipython3",
   "version": "3.5.0"
  }
 },
 "nbformat": 4,
 "nbformat_minor": 1
}
