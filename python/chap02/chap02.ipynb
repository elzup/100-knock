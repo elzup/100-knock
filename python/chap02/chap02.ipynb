{
 "cells": [
  {
   "cell_type": "markdown",
   "metadata": {},
   "source": [
    "# 第2章: UNIXコマンドの基礎\n",
    "\n",
    "hightemp.txtは，日本の最高気温の記録を「都道府県」「地点」「℃」「日」のタブ区切り形式で格納したファイルである．以下の処理を行うプログラムを作成し，hightemp.txtを入力ファイルとして実行せよ．さらに，同様の処理をUNIXコマンドでも実行し，プログラムの実行結果を確認せよ．"
   ]
  },
  {
   "cell_type": "code",
   "execution_count": 1,
   "metadata": {
    "collapsed": false
   },
   "outputs": [
    {
     "name": "stdout",
     "output_type": "stream",
     "text": [
      "高知県\t江川崎\t41\t2013-08-12\r\n",
      "埼玉県\t熊谷\t40.9\t2007-08-16\r\n",
      "岐阜県\t多治見\t40.9\t2007-08-16\r\n",
      "山形県\t山形\t40.8\t1933-07-25\r\n",
      "山梨県\t甲府\t40.7\t2013-08-10\r\n",
      "和歌山県\tかつらぎ\t40.6\t1994-08-08\r\n",
      "静岡県\t天竜\t40.6\t1994-08-04\r\n",
      "山梨県\t勝沼\t40.5\t2013-08-10\r\n",
      "埼玉県\t越谷\t40.4\t2007-08-16\r\n",
      "群馬県\t館林\t40.3\t2007-08-16\r\n",
      "群馬県\t上里見\t40.3\t1998-07-04\r\n",
      "愛知県\t愛西\t40.3\t1994-08-05\r\n",
      "千葉県\t牛久\t40.2\t2004-07-20\r\n",
      "静岡県\t佐久間\t40.2\t2001-07-24\r\n",
      "愛媛県\t宇和島\t40.2\t1927-07-22\r\n",
      "山形県\t酒田\t40.1\t1978-08-03\r\n",
      "岐阜県\t美濃\t40\t2007-08-16\r\n",
      "群馬県\t前橋\t40\t2001-07-24\r\n",
      "千葉県\t茂原\t39.9\t2013-08-11\r\n",
      "埼玉県\t鳩山\t39.9\t1997-07-05\r\n",
      "大阪府\t豊中\t39.9\t1994-08-08\r\n",
      "山梨県\t大月\t39.9\t1990-07-19\r\n",
      "山形県\t鶴岡\t39.9\t1978-08-03\r\n",
      "愛知県\t名古屋\t39.9\t1942-08-02\r\n"
     ]
    }
   ],
   "source": [
    "%cat hightemp.txt"
   ]
  },
  {
   "cell_type": "code",
   "execution_count": 2,
   "metadata": {
    "collapsed": true
   },
   "outputs": [],
   "source": [
    "import sys\n",
    "import subprocess\n",
    "\n",
    "def call(shell, enc=True):\n",
    "    res = subprocess.Popen(shell, shell=True, stdout=subprocess.PIPE).communicate()\n",
    "    return res[0].decode('utf-8') if enc else res[0]\n",
    "\n",
    "with open('./hightemp.txt', 'r', encoding='utf-8') as f:\n",
    "    text = f.read().strip()\n",
    "    lines = text.split(\"\\n\")"
   ]
  },
  {
   "cell_type": "markdown",
   "metadata": {},
   "source": [
    "### 10. 行数のカウント\n",
    "行数をカウントせよ．確認にはwcコマンドを用いよ．"
   ]
  },
  {
   "cell_type": "code",
   "execution_count": 3,
   "metadata": {
    "collapsed": false
   },
   "outputs": [
    {
     "data": {
      "text/plain": [
       "24"
      ]
     },
     "execution_count": 3,
     "metadata": {},
     "output_type": "execute_result"
    }
   ],
   "source": [
    "len(lines)"
   ]
  },
  {
   "cell_type": "code",
   "execution_count": 4,
   "metadata": {
    "collapsed": false
   },
   "outputs": [
    {
     "name": "stdout",
     "output_type": "stream",
     "text": [
      "24\r\n"
     ]
    }
   ],
   "source": [
    "%cat hightemp.txt |wc -l |tr -d ' '"
   ]
  },
  {
   "cell_type": "markdown",
   "metadata": {},
   "source": [
    "### 11. タブをスペースに置換\n",
    "タブ1文字につきスペース1文字に置換せよ．確認にはsedコマンド，trコマンド，もしくはexpandコマンドを用いよ．"
   ]
  },
  {
   "cell_type": "code",
   "execution_count": 5,
   "metadata": {
    "collapsed": false
   },
   "outputs": [
    {
     "name": "stdout",
     "output_type": "stream",
     "text": [
      "高知県 江川崎 41 2013-08-12\n",
      "埼玉県 熊谷 40.9 2007-08-16\n",
      "岐阜県 多治見 40.9 2007-08-16\n",
      "山形県 山形 40.8 1933-07-25\n",
      "山梨県 甲府 40.7 2013-08-10\n",
      "和歌山県 かつらぎ 40.6 1994-08-08\n",
      "静岡県 天竜 40.6 1994-08-04\n",
      "山梨県 勝沼 40.5 2013-08-10\n",
      "埼玉県 越谷 40.4 2007-08-16\n",
      "群馬県 館林 40.3 2007-08-16\n",
      "群馬県 上里見 40.3 1998-07-04\n",
      "愛知県 愛西 40.3 1994-08-05\n",
      "千葉県 牛久 40.2 2004-07-20\n",
      "静岡県 佐久間 40.2 2001-07-24\n",
      "愛媛県 宇和島 40.2 1927-07-22\n",
      "山形県 酒田 40.1 1978-08-03\n",
      "岐阜県 美濃 40 2007-08-16\n",
      "群馬県 前橋 40 2001-07-24\n",
      "千葉県 茂原 39.9 2013-08-11\n",
      "埼玉県 鳩山 39.9 1997-07-05\n",
      "大阪府 豊中 39.9 1994-08-08\n",
      "山梨県 大月 39.9 1990-07-19\n",
      "山形県 鶴岡 39.9 1978-08-03\n",
      "愛知県 名古屋 39.9 1942-08-02\n"
     ]
    }
   ],
   "source": [
    "print(text.replace(\"\\t\", \" \"))"
   ]
  },
  {
   "cell_type": "code",
   "execution_count": 6,
   "metadata": {
    "collapsed": false
   },
   "outputs": [
    {
     "name": "stdout",
     "output_type": "stream",
     "text": [
      "高知県 江川崎 41 2013-08-12\r\n",
      "埼玉県 熊谷 40.9 2007-08-16\r\n",
      "岐阜県 多治見 40.9 2007-08-16\r\n",
      "山形県 山形 40.8 1933-07-25\r\n",
      "山梨県 甲府 40.7 2013-08-10\r\n",
      "和歌山県 かつらぎ 40.6 1994-08-08\r\n",
      "静岡県 天竜 40.6 1994-08-04\r\n",
      "山梨県 勝沼 40.5 2013-08-10\r\n",
      "埼玉県 越谷 40.4 2007-08-16\r\n",
      "群馬県 館林 40.3 2007-08-16\r\n",
      "群馬県 上里見 40.3 1998-07-04\r\n",
      "愛知県 愛西 40.3 1994-08-05\r\n",
      "千葉県 牛久 40.2 2004-07-20\r\n",
      "静岡県 佐久間 40.2 2001-07-24\r\n",
      "愛媛県 宇和島 40.2 1927-07-22\r\n",
      "山形県 酒田 40.1 1978-08-03\r\n",
      "岐阜県 美濃 40 2007-08-16\r\n",
      "群馬県 前橋 40 2001-07-24\r\n",
      "千葉県 茂原 39.9 2013-08-11\r\n",
      "埼玉県 鳩山 39.9 1997-07-05\r\n",
      "大阪府 豊中 39.9 1994-08-08\r\n",
      "山梨県 大月 39.9 1990-07-19\r\n",
      "山形県 鶴岡 39.9 1978-08-03\r\n",
      "愛知県 名古屋 39.9 1942-08-02\r\n"
     ]
    }
   ],
   "source": [
    "%cat hightemp.txt |tr '\\t' ' '"
   ]
  },
  {
   "cell_type": "markdown",
   "metadata": {},
   "source": [
    "### 12. 1列目をcol1.txtに，2列目をcol2.txtに保存\n",
    "各行の1列目だけを抜き出したものをcol1.txtに，2列目だけを抜き出したものをcol2.txtとしてファイルに保存せよ．確認にはcutコマンドを用いよ．"
   ]
  },
  {
   "cell_type": "code",
   "execution_count": 7,
   "metadata": {
    "collapsed": false
   },
   "outputs": [
    {
     "name": "stdout",
     "output_type": "stream",
     "text": [
      "高知県\n",
      "埼玉県\n",
      "岐阜県\n",
      "山形県\n",
      "山梨県\n",
      "和歌山県\n",
      "静岡県\n",
      "山梨県\n",
      "埼玉県\n",
      "群馬県\n",
      "群馬県\n",
      "愛知県\n",
      "千葉県\n",
      "静岡県\n",
      "愛媛県\n",
      "山形県\n",
      "岐阜県\n",
      "群馬県\n",
      "千葉県\n",
      "埼玉県\n",
      "大阪府\n",
      "山梨県\n",
      "山形県\n",
      "愛知県\n",
      "\n",
      "江川崎\n",
      "熊谷\n",
      "多治見\n",
      "山形\n",
      "甲府\n",
      "かつらぎ\n",
      "天竜\n",
      "勝沼\n",
      "越谷\n",
      "館林\n",
      "上里見\n",
      "愛西\n",
      "牛久\n",
      "佐久間\n",
      "宇和島\n",
      "酒田\n",
      "美濃\n",
      "前橋\n",
      "茂原\n",
      "鳩山\n",
      "豊中\n",
      "大月\n",
      "鶴岡\n",
      "名古屋"
     ]
    }
   ],
   "source": [
    "import numpy as np\n",
    "data = np.array([line.split(\"\\t\") for line in lines])\n",
    "col1, col2 = data[:,:2].transpose()\n",
    "with open('./col1.txt', 'w', encoding='utf-8') as fw:\n",
    "    fw.write(\"\\n\".join(col1))\n",
    "with open('./col2.txt', 'w', encoding='utf-8') as fw:\n",
    "    fw.write(\"\\n\".join(col2))\n",
    "%cat col1.txt\n",
    "print(\"\\n\")\n",
    "%cat col2.txt"
   ]
  },
  {
   "cell_type": "code",
   "execution_count": 8,
   "metadata": {
    "collapsed": false
   },
   "outputs": [
    {
     "name": "stdout",
     "output_type": "stream",
     "text": [
      "高知県\r\n",
      "埼玉県\r\n",
      "岐阜県\r\n",
      "山形県\r\n",
      "山梨県\r\n",
      "和歌山県\r\n",
      "静岡県\r\n",
      "山梨県\r\n",
      "埼玉県\r\n",
      "群馬県\r\n",
      "群馬県\r\n",
      "愛知県\r\n",
      "千葉県\r\n",
      "静岡県\r\n",
      "愛媛県\r\n",
      "山形県\r\n",
      "岐阜県\r\n",
      "群馬県\r\n",
      "千葉県\r\n",
      "埼玉県\r\n",
      "大阪府\r\n",
      "山梨県\r\n",
      "山形県\r\n",
      "愛知県\r\n"
     ]
    }
   ],
   "source": [
    "cat hightemp.txt |cut -f1"
   ]
  },
  {
   "cell_type": "code",
   "execution_count": 9,
   "metadata": {
    "collapsed": false
   },
   "outputs": [
    {
     "name": "stdout",
     "output_type": "stream",
     "text": [
      "江川崎\r\n",
      "熊谷\r\n",
      "多治見\r\n",
      "山形\r\n",
      "甲府\r\n",
      "かつらぎ\r\n",
      "天竜\r\n",
      "勝沼\r\n",
      "越谷\r\n",
      "館林\r\n",
      "上里見\r\n",
      "愛西\r\n",
      "牛久\r\n",
      "佐久間\r\n",
      "宇和島\r\n",
      "酒田\r\n",
      "美濃\r\n",
      "前橋\r\n",
      "茂原\r\n",
      "鳩山\r\n",
      "豊中\r\n",
      "大月\r\n",
      "鶴岡\r\n",
      "名古屋\r\n"
     ]
    }
   ],
   "source": [
    "cat hightemp.txt |cut -f2"
   ]
  },
  {
   "cell_type": "markdown",
   "metadata": {},
   "source": [
    "### 13. col1.txtとcol2.txtをマージ\n",
    "12で作ったcol1.txtとcol2.txtを結合し，元のファイルの1列目と2列目をタブ区切りで並べたテキストファイルを作成せよ．確認にはpasteコマンドを用いよ．"
   ]
  },
  {
   "cell_type": "code",
   "execution_count": 10,
   "metadata": {
    "collapsed": false
   },
   "outputs": [
    {
     "name": "stdout",
     "output_type": "stream",
     "text": [
      "高知県\t江川崎\r\n",
      "埼玉県\t熊谷\r\n",
      "岐阜県\t多治見\r\n",
      "山形県\t山形\r\n",
      "山梨県\t甲府\r\n",
      "和歌山県\tかつらぎ\r\n",
      "静岡県\t天竜\r\n",
      "山梨県\t勝沼\r\n",
      "埼玉県\t越谷\r\n",
      "群馬県\t館林\r\n",
      "群馬県\t上里見\r\n",
      "愛知県\t愛西\r\n",
      "千葉県\t牛久\r\n",
      "静岡県\t佐久間\r\n",
      "愛媛県\t宇和島\r\n",
      "山形県\t酒田\r\n",
      "岐阜県\t美濃\r\n",
      "群馬県\t前橋\r\n",
      "千葉県\t茂原\r\n",
      "埼玉県\t鳩山\r\n",
      "大阪府\t豊中\r\n",
      "山梨県\t大月\r\n",
      "山形県\t鶴岡\r\n",
      "愛知県\t名古屋"
     ]
    }
   ],
   "source": [
    "import numpy as np\n",
    "with open('./col1.txt', 'r', encoding='utf-8') as f:\n",
    "    col1 = f.read().split(\"\\n\")\n",
    "with open('./col2.txt', 'r', encoding='utf-8') as f:\n",
    "    col2 = f.read().split(\"\\n\")\n",
    "d = np.array([col1, col2]).transpose()\n",
    "txt = \"\\n\".join([\"\\t\".join(v) for v in d])\n",
    "with open('./col1_2.txt', 'w', encoding='utf-8') as f:\n",
    "    f.write(txt)\n",
    "%cat col1_2.txt"
   ]
  },
  {
   "cell_type": "code",
   "execution_count": 11,
   "metadata": {
    "collapsed": false
   },
   "outputs": [
    {
     "name": "stdout",
     "output_type": "stream",
     "text": [
      "高知県\t江川崎\n",
      "埼玉県\t熊谷\n",
      "岐阜県\t多治見\n",
      "山形県\t山形\n",
      "山梨県\t甲府\n",
      "和歌山県\tかつらぎ\n",
      "静岡県\t天竜\n",
      "山梨県\t勝沼\n",
      "埼玉県\t越谷\n",
      "群馬県\t館林\n",
      "群馬県\t上里見\n",
      "愛知県\t愛西\n",
      "千葉県\t牛久\n",
      "静岡県\t佐久間\n",
      "愛媛県\t宇和島\n",
      "山形県\t酒田\n",
      "岐阜県\t美濃\n",
      "群馬県\t前橋\n",
      "千葉県\t茂原\n",
      "埼玉県\t鳩山\n",
      "大阪府\t豊中\n",
      "山梨県\t大月\n",
      "山形県\t鶴岡\n",
      "愛知県\t名古屋\n",
      "\n"
     ]
    }
   ],
   "source": [
    "print(call('paste col1.txt col2.txt'))"
   ]
  },
  {
   "cell_type": "markdown",
   "metadata": {},
   "source": [
    "### 14. 先頭からN行を出力\n",
    "自然数Nをコマンドライン引数などの手段で受け取り，入力のうち先頭のN行だけを表示せよ．確認にはheadコマンドを用いよ．"
   ]
  },
  {
   "cell_type": "code",
   "execution_count": 12,
   "metadata": {
    "collapsed": false
   },
   "outputs": [
    {
     "name": "stdout",
     "output_type": "stream",
     "text": [
      "高知県\t江川崎\t41\t2013-08-12\n",
      "埼玉県\t熊谷\t40.9\t2007-08-16\n",
      "岐阜県\t多治見\t40.9\t2007-08-16\n",
      "山形県\t山形\t40.8\t1933-07-25\n"
     ]
    }
   ],
   "source": [
    "def print_head_for(n):\n",
    "    print(\"\\n\".join(lines[:n]))\n",
    "# n = sys.argv[1]\n",
    "n = 4\n",
    "print_head_for(4)"
   ]
  },
  {
   "cell_type": "code",
   "execution_count": 13,
   "metadata": {
    "collapsed": false
   },
   "outputs": [
    {
     "name": "stdout",
     "output_type": "stream",
     "text": [
      "高知県\t江川崎\t41\t2013-08-12\n",
      "埼玉県\t熊谷\t40.9\t2007-08-16\n",
      "岐阜県\t多治見\t40.9\t2007-08-16\n",
      "山形県\t山形\t40.8\t1933-07-25\n",
      "\n"
     ]
    }
   ],
   "source": [
    "print(call('head -n 4 hightemp.txt'))"
   ]
  },
  {
   "cell_type": "markdown",
   "metadata": {},
   "source": [
    "### 15. 末尾のN行を出力\n",
    "自然数Nをコマンドライン引数などの手段で受け取り，入力のうち末尾のN行だけを表示せよ．確認にはtailコマンドを用いよ．"
   ]
  },
  {
   "cell_type": "code",
   "execution_count": 14,
   "metadata": {
    "collapsed": false
   },
   "outputs": [
    {
     "name": "stdout",
     "output_type": "stream",
     "text": [
      "大阪府\t豊中\t39.9\t1994-08-08\n",
      "山梨県\t大月\t39.9\t1990-07-19\n",
      "山形県\t鶴岡\t39.9\t1978-08-03\n",
      "愛知県\t名古屋\t39.9\t1942-08-02\n"
     ]
    }
   ],
   "source": [
    "def print_foot_for(n):\n",
    "    print(\"\\n\".join(lines[-n:]))\n",
    "# n = sys.argv[1]\n",
    "n = 4\n",
    "print_foot_for(4)"
   ]
  },
  {
   "cell_type": "code",
   "execution_count": 15,
   "metadata": {
    "collapsed": false
   },
   "outputs": [
    {
     "name": "stdout",
     "output_type": "stream",
     "text": [
      "大阪府\t豊中\t39.9\t1994-08-08\n",
      "山梨県\t大月\t39.9\t1990-07-19\n",
      "山形県\t鶴岡\t39.9\t1978-08-03\n",
      "愛知県\t名古屋\t39.9\t1942-08-02\n",
      "\n"
     ]
    }
   ],
   "source": [
    "print(call('tail -n 4 hightemp.txt'))"
   ]
  },
  {
   "cell_type": "markdown",
   "metadata": {},
   "source": [
    "### 16. ファイルをN分割する\n",
    "自然数Nをコマンドライン引数などの手段で受け取り，入力のファイルを行単位でN分割せよ．同様の処理をsplitコマンドで実現せよ．"
   ]
  },
  {
   "cell_type": "code",
   "execution_count": 16,
   "metadata": {
    "collapsed": false
   },
   "outputs": [
    {
     "name": "stdout",
     "output_type": "stream",
     "text": [
      "高知県\t江川崎\t41\t2013-08-12\n",
      "埼玉県\t熊谷\t40.9\t2007-08-16\n",
      "岐阜県\t多治見\t40.9\t2007-08-16\n",
      "山形県\t山形\t40.8\t1933-07-25\n",
      "山梨県\t甲府\t40.7\t2013-08-10\n",
      "和歌山県\tかつらぎ\t40.6\t1994-08-08\n",
      "静岡県\t天竜\t40.6\t1994-08-04\n",
      "山梨県\t勝沼\t40.5\t2013-08-10\n",
      "\n",
      "埼玉県\t越谷\t40.4\t2007-08-16\n",
      "群馬県\t館林\t40.3\t2007-08-16\n",
      "群馬県\t上里見\t40.3\t1998-07-04\n",
      "愛知県\t愛西\t40.3\t1994-08-05\n",
      "千葉県\t牛久\t40.2\t2004-07-20\n",
      "静岡県\t佐久間\t40.2\t2001-07-24\n",
      "愛媛県\t宇和島\t40.2\t1927-07-22\n",
      "山形県\t酒田\t40.1\t1978-08-03\n",
      "\n",
      "岐阜県\t美濃\t40\t2007-08-16\n",
      "群馬県\t前橋\t40\t2001-07-24\n",
      "千葉県\t茂原\t39.9\t2013-08-11\n",
      "埼玉県\t鳩山\t39.9\t1997-07-05\n",
      "大阪府\t豊中\t39.9\t1994-08-08\n",
      "山梨県\t大月\t39.9\t1990-07-19\n",
      "山形県\t鶴岡\t39.9\t1978-08-03\n",
      "愛知県\t名古屋\t39.9\t1942-08-02\n"
     ]
    }
   ],
   "source": [
    "def print_split_chunk(n):\n",
    "    chunks = []\n",
    "    t = len(lines) / n\n",
    "    for i in range(n):\n",
    "        chunks.append(lines[int(i * t): int((i + 1) * t)])\n",
    "    return chunks\n",
    "# n = sys.argv[1]\n",
    "n = 4\n",
    "cs = print_split_chunk(3)\n",
    "print(\"\\n\\n\".join([\"\\n\".join(v) for v in cs]))"
   ]
  },
  {
   "cell_type": "code",
   "execution_count": 17,
   "metadata": {
    "collapsed": false
   },
   "outputs": [
    {
     "name": "stdout",
     "output_type": "stream",
     "text": [
      "\n",
      "q16_aa:高知県\t江川崎\t41\t2013-08-12\n",
      "q16_aa:埼玉県\t熊谷\t40.9\t2007-08-16\n",
      "q16_aa:岐阜県\t多治見\t40.9\t2007-08-16\n",
      "q16_aa:山形県\t山形\t40.8\t1933-07-25\n",
      "q16_aa:山梨県\t甲府\t40.7\t2013-08-10\n",
      "q16_aa:和歌山県\tかつらぎ\t40.6\t1994-08-08\n",
      "q16_aa:静岡県\t天竜\t40.6\t1994-08-04\n",
      "q16_aa:山梨県\t勝沼\t40.5\t2013-08-10\n",
      "q16_ab:埼玉県\t越谷\t40.4\t2007-08-16\n",
      "q16_ab:群馬県\t館林\t40.3\t2007-08-16\n",
      "q16_ab:群馬県\t上里見\t40.3\t1998-07-04\n",
      "q16_ab:愛知県\t愛西\t40.3\t1994-08-05\n",
      "q16_ab:千葉県\t牛久\t40.2\t2004-07-20\n",
      "q16_ab:静岡県\t佐久間\t40.2\t2001-07-24\n",
      "q16_ab:愛媛県\t宇和島\t40.2\t1927-07-22\n",
      "q16_ab:山形県\t酒田\t40.1\t1978-08-03\n",
      "q16_ac:岐阜県\t美濃\t40\t2007-08-16\n",
      "q16_ac:群馬県\t前橋\t40\t2001-07-24\n",
      "q16_ac:千葉県\t茂原\t39.9\t2013-08-11\n",
      "q16_ac:埼玉県\t鳩山\t39.9\t1997-07-05\n",
      "q16_ac:大阪府\t豊中\t39.9\t1994-08-08\n",
      "q16_ac:山梨県\t大月\t39.9\t1990-07-19\n",
      "q16_ac:山形県\t鶴岡\t39.9\t1978-08-03\n",
      "q16_ac:愛知県\t名古屋\t39.9\t1942-08-02\n",
      "\n"
     ]
    }
   ],
   "source": [
    "print(call('split -l $(expr $(cat hightemp.txt | wc -l |tr -d \" \") / 3) hightemp.txt q16_'))\n",
    "print(call('grep \"\" q16_*'))"
   ]
  },
  {
   "cell_type": "markdown",
   "metadata": {},
   "source": [
    "### 17. １列目の文字列の異なり\n",
    "1列目の文字列の種類（異なる文字列の集合）を求めよ．確認にはsort, uniqコマンドを用いよ．"
   ]
  },
  {
   "cell_type": "code",
   "execution_count": 18,
   "metadata": {
    "collapsed": false
   },
   "outputs": [
    {
     "ename": "AttributeError",
     "evalue": "'list' object has no attribute 'tolist'",
     "output_type": "error",
     "traceback": [
      "\u001b[0;31m---------------------------------------------------------------------------\u001b[0m",
      "\u001b[0;31mAttributeError\u001b[0m                            Traceback (most recent call last)",
      "\u001b[0;32m<ipython-input-18-7873859c8ef0>\u001b[0m in \u001b[0;36m<module>\u001b[0;34m()\u001b[0m\n\u001b[0;32m----> 1\u001b[0;31m \u001b[0mprint\u001b[0m\u001b[0;34m(\u001b[0m\u001b[0;34m\"\\n\"\u001b[0m\u001b[0;34m.\u001b[0m\u001b[0mjoin\u001b[0m\u001b[0;34m(\u001b[0m\u001b[0msorted\u001b[0m\u001b[0;34m(\u001b[0m\u001b[0mset\u001b[0m\u001b[0;34m(\u001b[0m\u001b[0mcol1\u001b[0m\u001b[0;34m.\u001b[0m\u001b[0mtolist\u001b[0m\u001b[0;34m(\u001b[0m\u001b[0;34m)\u001b[0m\u001b[0;34m)\u001b[0m\u001b[0;34m)\u001b[0m\u001b[0;34m)\u001b[0m\u001b[0;34m)\u001b[0m\u001b[0;34m\u001b[0m\u001b[0m\n\u001b[0m",
      "\u001b[0;31mAttributeError\u001b[0m: 'list' object has no attribute 'tolist'"
     ]
    }
   ],
   "source": [
    "print(\"\\n\".join(sorted(set(col1.tolist()))))"
   ]
  },
  {
   "cell_type": "code",
   "execution_count": 19,
   "metadata": {
    "collapsed": false
   },
   "outputs": [
    {
     "name": "stdout",
     "output_type": "stream",
     "text": [
      "千葉県\r\n",
      "埼玉県\r\n",
      "大阪府\r\n",
      "山形県\r\n",
      "山梨県\r\n",
      "岐阜県\r\n",
      "愛媛県\r\n",
      "愛知県\r\n",
      "群馬県\r\n",
      "静岡県\r\n",
      "高知県\r\n",
      "和歌山県\r\n"
     ]
    }
   ],
   "source": [
    "cat hightemp.txt |cut -f1 |sort |uniq"
   ]
  },
  {
   "cell_type": "markdown",
   "metadata": {},
   "source": [
    "### 18. 各行を3コラム目の数値の降順にソート\n",
    "各行を3コラム目の数値の逆順で整列せよ（注意: 各行の内容は変更せずに並び替えよ）．確認にはsortコマンドを用いよ（この問題はコマンドで実行した時の結果と合わなくてもよい）．"
   ]
  },
  {
   "cell_type": "code",
   "execution_count": 20,
   "metadata": {
    "collapsed": false
   },
   "outputs": [
    {
     "name": "stdout",
     "output_type": "stream",
     "text": [
      "千葉県 \t茂原 \t39.9 \t2013-08-11\n",
      "埼玉県 \t鳩山 \t39.9 \t1997-07-05\n",
      "大阪府 \t豊中 \t39.9 \t1994-08-08\n",
      "山梨県 \t大月 \t39.9 \t1990-07-19\n",
      "山形県 \t鶴岡 \t39.9 \t1978-08-03\n",
      "愛知県 \t名古屋 \t39.9 \t1942-08-02\n",
      "岐阜県 \t美濃 \t40 \t2007-08-16\n",
      "群馬県 \t前橋 \t40 \t2001-07-24\n",
      "山形県 \t酒田 \t40.1 \t1978-08-03\n",
      "千葉県 \t牛久 \t40.2 \t2004-07-20\n",
      "静岡県 \t佐久間 \t40.2 \t2001-07-24\n",
      "愛媛県 \t宇和島 \t40.2 \t1927-07-22\n",
      "群馬県 \t館林 \t40.3 \t2007-08-16\n",
      "群馬県 \t上里見 \t40.3 \t1998-07-04\n",
      "愛知県 \t愛西 \t40.3 \t1994-08-05\n",
      "埼玉県 \t越谷 \t40.4 \t2007-08-16\n",
      "山梨県 \t勝沼 \t40.5 \t2013-08-10\n",
      "和歌山県 \tかつらぎ \t40.6 \t1994-08-08\n",
      "静岡県 \t天竜 \t40.6 \t1994-08-04\n",
      "山梨県 \t甲府 \t40.7 \t2013-08-10\n",
      "山形県 \t山形 \t40.8 \t1933-07-25\n",
      "埼玉県 \t熊谷 \t40.9 \t2007-08-16\n",
      "岐阜県 \t多治見 \t40.9 \t2007-08-16\n",
      "高知県 \t江川崎 \t41 \t2013-08-12\n"
     ]
    }
   ],
   "source": [
    "temp_sorted = sorted(data.tolist(), key=lambda x: x[2])\n",
    "print(\"\\n\".join([\" \\t\".join(v) for v in temp_sorted]))"
   ]
  },
  {
   "cell_type": "code",
   "execution_count": 21,
   "metadata": {
    "collapsed": false
   },
   "outputs": [
    {
     "name": "stdout",
     "output_type": "stream",
     "text": [
      "愛知県\t名古屋\t39.9\t1942-08-02\r\n",
      "山形県\t鶴岡\t39.9\t1978-08-03\r\n",
      "山梨県\t大月\t39.9\t1990-07-19\r\n",
      "大阪府\t豊中\t39.9\t1994-08-08\r\n",
      "埼玉県\t鳩山\t39.9\t1997-07-05\r\n",
      "千葉県\t茂原\t39.9\t2013-08-11\r\n",
      "群馬県\t前橋\t40\t2001-07-24\r\n",
      "岐阜県\t美濃\t40\t2007-08-16\r\n",
      "山形県\t酒田\t40.1\t1978-08-03\r\n",
      "愛媛県\t宇和島\t40.2\t1927-07-22\r\n",
      "静岡県\t佐久間\t40.2\t2001-07-24\r\n",
      "千葉県\t牛久\t40.2\t2004-07-20\r\n",
      "愛知県\t愛西\t40.3\t1994-08-05\r\n",
      "群馬県\t上里見\t40.3\t1998-07-04\r\n",
      "群馬県\t館林\t40.3\t2007-08-16\r\n",
      "埼玉県\t越谷\t40.4\t2007-08-16\r\n",
      "山梨県\t勝沼\t40.5\t2013-08-10\r\n",
      "静岡県\t天竜\t40.6\t1994-08-04\r\n",
      "和歌山県\tかつらぎ\t40.6\t1994-08-08\r\n",
      "山梨県\t甲府\t40.7\t2013-08-10\r\n",
      "山形県\t山形\t40.8\t1933-07-25\r\n",
      "埼玉県\t熊谷\t40.9\t2007-08-16\r\n",
      "岐阜県\t多治見\t40.9\t2007-08-16\r\n",
      "高知県\t江川崎\t41\t2013-08-12\r\n"
     ]
    }
   ],
   "source": [
    "cat hightemp.txt |sort -k3"
   ]
  },
  {
   "cell_type": "markdown",
   "metadata": {},
   "source": [
    "### 19. 各行の1コラム目の文字列の出現頻度を求め，出現頻度の高い順に並べる\n",
    "各行の1列目の文字列の出現頻度を求め，その高い順に並べて表示せよ．確認にはcut, uniq, sortコマンドを用いよ．"
   ]
  },
  {
   "cell_type": "code",
   "execution_count": 22,
   "metadata": {
    "collapsed": false
   },
   "outputs": [
    {
     "name": "stdout",
     "output_type": "stream",
     "text": [
      "山形県\n",
      "群馬県\n",
      "山梨県\n",
      "埼玉県\n",
      "岐阜県\n",
      "静岡県\n",
      "千葉県\n",
      "愛知県\n",
      "和歌山県\n",
      "愛媛県\n",
      "高知県\n",
      "大阪府\n"
     ]
    }
   ],
   "source": [
    "dics = {}\n",
    "for col in col1:\n",
    "    if col not in dics:\n",
    "        dics[col] = 0\n",
    "    dics[col] += 1\n",
    "print(\"\\n\".join(k for k, v in sorted(dics.items(), key=lambda x: -x[1])))"
   ]
  },
  {
   "cell_type": "code",
   "execution_count": 23,
   "metadata": {
    "collapsed": false,
    "scrolled": true
   },
   "outputs": [
    {
     "name": "stdout",
     "output_type": "stream",
     "text": [
      "群馬県\r\n",
      "山梨県\r\n",
      "山形県\r\n",
      "埼玉県\r\n",
      "静岡県\r\n",
      "愛知県\r\n",
      "岐阜県\r\n",
      "千葉県\r\n",
      "和歌山県\r\n",
      "高知県\r\n",
      "愛媛県\r\n",
      "大阪府\r\n"
     ]
    }
   ],
   "source": [
    "cat hightemp.txt |cut -f1 |sort |uniq -c |sed -e 's/^ *//' |sort -n -k1 -r |cut -d ' ' -f 2"
   ]
  }
 ],
 "metadata": {
  "kernelspec": {
   "display_name": "Python 3",
   "language": "python",
   "name": "python3"
  },
  "language_info": {
   "codemirror_mode": {
    "name": "ipython",
    "version": 3
   },
   "file_extension": ".py",
   "mimetype": "text/x-python",
   "name": "python",
   "nbconvert_exporter": "python",
   "pygments_lexer": "ipython3",
   "version": "3.5.0"
  }
 },
 "nbformat": 4,
 "nbformat_minor": 1
}
